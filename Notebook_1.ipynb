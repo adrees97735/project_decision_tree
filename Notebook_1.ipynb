{
  "nbformat": 4,
  "nbformat_minor": 0,
  "metadata": {
    "colab": {
      "provenance": [],
      "gpuType": "T4"
    },
    "kernelspec": {
      "name": "python3",
      "display_name": "Python 3"
    },
    "language_info": {
      "name": "python"
    },
    "accelerator": "GPU"
  },
  "cells": [
    {
      "cell_type": "code",
      "source": [
        "from google.colab import drive\n",
        "drive.mount(\"/content/drive\")"
      ],
      "metadata": {
        "colab": {
          "base_uri": "https://localhost:8080/"
        },
        "id": "yO6FnFBe-wj0",
        "outputId": "f49ffb35-8f4c-4798-d841-456fea9771e6"
      },
      "execution_count": 40,
      "outputs": [
        {
          "output_type": "stream",
          "name": "stdout",
          "text": [
            "Drive already mounted at /content/drive; to attempt to forcibly remount, call drive.mount(\"/content/drive\", force_remount=True).\n"
          ]
        }
      ]
    },
    {
      "cell_type": "markdown",
      "source": [
        "**Question 1**"
      ],
      "metadata": {
        "id": "LDlOhmGVg8dm"
      }
    },
    {
      "cell_type": "code",
      "source": [
        "!pip install tabulate"
      ],
      "metadata": {
        "colab": {
          "base_uri": "https://localhost:8080/"
        },
        "id": "AvjI8zjWc5Dr",
        "outputId": "b77c3821-4cb5-445f-a0cd-f955c66a552e"
      },
      "execution_count": 41,
      "outputs": [
        {
          "output_type": "stream",
          "name": "stdout",
          "text": [
            "Requirement already satisfied: tabulate in /usr/local/lib/python3.10/dist-packages (0.9.0)\n"
          ]
        }
      ]
    },
    {
      "cell_type": "code",
      "source": [
        "import os\n",
        "import re\n",
        "import pandas as pd\n",
        "from tabulate import tabulate\n",
        "\n",
        "# Define the directory containing the 400 emails\n",
        "email_directory = '/content/drive/MyDrive/400_emails'\n",
        "\n",
        "# Initialize a dictionary to count mentions of \"Jimmy Fraud\"\n",
        "mention_count_dict = {}\n",
        "\n",
        "# Iterate over each file in the email directory\n",
        "for email_filename in os.listdir(email_directory):\n",
        "    if email_filename.endswith('.txt'):\n",
        "        # Extract the individual ID from the filename\n",
        "        individual_id = int(re.search(r'\\d+', email_filename).group())\n",
        "\n",
        "        # Open and read the email content\n",
        "        with open(os.path.join(email_directory, email_filename), 'r') as email_file:\n",
        "            email_content = email_file.read()\n",
        "\n",
        "        # Count the mentions of \"Jimmy Fraud\" in the email content\n",
        "        mention_count = email_content.lower().count('jimmy fraud')\n",
        "\n",
        "        # Store the count in the dictionary using the individual ID as the key\n",
        "        mention_count_dict[individual_id] = mention_count\n",
        "\n",
        "# Convert the dictionary to a DataFrame\n",
        "mention_count_df = pd.DataFrame(list(mention_count_dict.items()), columns=['Individual_ID', 'Mention_Count'])\n",
        "\n",
        "# Filter and sort the DataFrame for individuals with more than 15 mentions\n",
        "filtered_mention_count_df = mention_count_df[mention_count_df['Mention_Count'] > 15].sort_values(by='Mention_Count', ascending=False)\n",
        "\n",
        "# Rename columns to match the desired format\n",
        "filtered_mention_count_df.columns = ['Person', 'Jimmy Fraud Mentions']\n",
        "\n",
        "# Format the 'Individual' column\n",
        "filtered_mention_count_df['Person'] = filtered_mention_count_df['Person'].apply(lambda x: f'Individual ({x})')\n",
        "\n",
        "# Use tabulate to print the DataFrame in a formatted table\n",
        "print(tabulate(filtered_mention_count_df.head(15), headers='keys', tablefmt='grid', showindex=False))\n"
      ],
      "metadata": {
        "colab": {
          "base_uri": "https://localhost:8080/"
        },
        "id": "gW3dxbwYHXpy",
        "outputId": "a377699c-a2fd-4b03-8cb1-e2db4f078972"
      },
      "execution_count": 43,
      "outputs": [
        {
          "output_type": "stream",
          "name": "stdout",
          "text": [
            "+------------------+------------------------+\n",
            "| Person           |   Jimmy Fraud Mentions |\n",
            "+==================+========================+\n",
            "| Individual (353) |                     25 |\n",
            "+------------------+------------------------+\n",
            "| Individual (291) |                     24 |\n",
            "+------------------+------------------------+\n",
            "| Individual (4)   |                     23 |\n",
            "+------------------+------------------------+\n",
            "| Individual (123) |                     22 |\n",
            "+------------------+------------------------+\n",
            "| Individual (67)  |                     21 |\n",
            "+------------------+------------------------+\n",
            "| Individual (298) |                     19 |\n",
            "+------------------+------------------------+\n",
            "| Individual (188) |                     19 |\n",
            "+------------------+------------------------+\n",
            "| Individual (248) |                     19 |\n",
            "+------------------+------------------------+\n",
            "| Individual (376) |                     18 |\n",
            "+------------------+------------------------+\n",
            "| Individual (143) |                     17 |\n",
            "+------------------+------------------------+\n",
            "| Individual (265) |                     17 |\n",
            "+------------------+------------------------+\n",
            "| Individual (368) |                     17 |\n",
            "+------------------+------------------------+\n",
            "| Individual (211) |                     16 |\n",
            "+------------------+------------------------+\n",
            "| Individual (144) |                     16 |\n",
            "+------------------+------------------------+\n",
            "| Individual (49)  |                     16 |\n",
            "+------------------+------------------------+\n"
          ]
        }
      ]
    },
    {
      "cell_type": "markdown",
      "source": [
        "**Question 2 Statistics**"
      ],
      "metadata": {
        "id": "ZwBKDNVqdiTR"
      }
    },
    {
      "cell_type": "code",
      "source": [
        "# Calculate statistics for all mentions\n",
        "total_mentions = mention_count_df['Mention_Count'].sum()\n",
        "mean_mentions = mention_count_df['Mention_Count'].mean()\n",
        "std_dev_mentions = mention_count_df['Mention_Count'].std()\n",
        "min_mentions = mention_count_df['Mention_Count'].min()\n",
        "max_mentions = mention_count_df['Mention_Count'].max()\n",
        "\n",
        "# Display the statistics\n",
        "print(\"\\nStatistics of 'Jimmy Fraud' Mentions\")\n",
        "print(\"-----------------------------------\")\n",
        "print(f\"Total number of mentions: {total_mentions}\")\n",
        "print(f\"Mean mentions per person: {mean_mentions:.2f}\")\n",
        "print(f\"Standard deviation of mentions: {std_dev_mentions:.2f}\")\n",
        "print(f\"Minimum mentions: {min_mentions}\")\n",
        "print(f\"Maximum mentions: {max_mentions}\")"
      ],
      "metadata": {
        "colab": {
          "base_uri": "https://localhost:8080/"
        },
        "id": "LMZ7YFd_-AfV",
        "outputId": "6ab6f456-bf31-49cf-9ec5-2071ca3bd50c"
      },
      "execution_count": 14,
      "outputs": [
        {
          "output_type": "stream",
          "name": "stdout",
          "text": [
            "\n",
            "Statistics of 'Jimmy Fraud' Mentions\n",
            "-----------------------------------\n",
            "Total number of mentions: 1993\n",
            "Mean mentions per person: 4.98\n",
            "Standard deviation of mentions: 4.35\n",
            "Minimum mentions: 1\n",
            "Maximum mentions: 25\n"
          ]
        }
      ]
    },
    {
      "cell_type": "markdown",
      "source": [
        "**Question 3 Histogram**"
      ],
      "metadata": {
        "id": "uWlV3VWvd32x"
      }
    },
    {
      "cell_type": "code",
      "source": [
        "import os\n",
        "import re\n",
        "import pandas as pd\n",
        "import matplotlib.pyplot as plt\n",
        "\n",
        "# Folder containing the emails\n",
        "email_folder = '/content/drive/MyDrive/400_emails'\n",
        "\n",
        "# Initialize a dictionary to store the counts\n",
        "mentions = {}\n",
        "\n",
        "# Iterate through each file in the folder\n",
        "for filename in os.listdir(email_folder):\n",
        "    if filename.endswith('.txt'):\n",
        "        # Extract the individual number from the filename\n",
        "        individual_number = int(re.search(r'\\d+', filename).group())\n",
        "\n",
        "        # Open and read the email content\n",
        "        with open(os.path.join(email_folder, filename), 'r') as file:\n",
        "            content = file.read()\n",
        "\n",
        "        # Count the mentions of \"Jimmy Fraud\"\n",
        "        count = content.lower().count('jimmy fraud')\n",
        "\n",
        "        # Store the count in the dictionary\n",
        "        mentions[individual_number] = count\n",
        "\n",
        "# Convert the dictionary to a DataFrame\n",
        "mentions_df = pd.DataFrame(list(mentions.items()), columns=['Individual', 'Mentions'])\n",
        "\n",
        "# Plot histogram with smaller bins\n",
        "plt.figure(figsize=(10, 6))\n",
        "bins = range(0, max(mentions_df['Mentions']) + 2)  # Bins for each count from 0 to max mentions\n",
        "plt.hist(mentions_df['Mentions'], bins=bins, color='skyblue', edgecolor='black', align='left')\n",
        "\n",
        "# Adding labels and title\n",
        "plt.title('Histogram of Mentions of \"Jimmy Fraud\"')\n",
        "plt.xlabel('Number of Mentions')\n",
        "plt.ylabel('Frequency')\n",
        "plt.xticks(bins)  # Set x-ticks to match the bin intervals\n",
        "\n",
        "plt.grid(True)\n",
        "plt.tight_layout()\n",
        "plt.show()\n"
      ],
      "metadata": {
        "colab": {
          "base_uri": "https://localhost:8080/",
          "height": 607
        },
        "id": "ZaC7bp31YIxx",
        "outputId": "4e7acc30-d4e1-445a-b88d-fcc931be3088"
      },
      "execution_count": 15,
      "outputs": [
        {
          "output_type": "display_data",
          "data": {
            "text/plain": [
              "<Figure size 1000x600 with 1 Axes>"
            ],
            "image/png": "[encoded data removed]"
          },
          "metadata": {}
        }
      ]
    },
    {
      "cell_type": "markdown",
      "source": [
        "**Question 4**"
      ],
      "metadata": {
        "id": "1AYSdHD7jmXe"
      }
    },
    {
      "cell_type": "markdown",
      "source": [
        "**Displaying Rows and Columns of the Dataset**"
      ],
      "metadata": {
        "id": "BgCZCjuUIuYH"
      }
    },
    {
      "cell_type": "code",
      "source": [
        "import pandas as pd\n",
        "\n",
        "# Load the data\n",
        "csv_file_path = '/content/drive/MyDrive/Jimmy_fraud(2).csv'  # Replace with your actual CSV file path\n",
        "df = pd.read_csv(csv_file_path)\n",
        "\n",
        "# Display the number of rows and columns\n",
        "num_rows, num_cols = df.shape\n",
        "print(f\"Number of rows: {num_rows}\")\n",
        "print(f\"Number of columns: {num_cols}\")\n",
        "\n",
        "# Display the first few rows of the dataframe\n",
        "#in this case it will display first 5 rows\n",
        "print(df.head())\n"
      ],
      "metadata": {
        "colab": {
          "base_uri": "https://localhost:8080/"
        },
        "id": "WC2GH0lwHeVQ",
        "outputId": "de2e5a92-e55b-4451-bda2-3befd6f72f6d"
      },
      "execution_count": 32,
      "outputs": [
        {
          "output_type": "stream",
          "name": "stdout",
          "text": [
            "Number of rows: 284807\n",
            "Number of columns: 22\n",
            "  Defrauded       AB1       AB2       AB3       AB4       AB5       AB6  \\\n",
            "0        No -1.359807 -0.072781  2.536347  1.378155 -0.338321  0.462388   \n",
            "1        No  1.191857  0.266151  0.166480  0.448154  0.060018 -0.082361   \n",
            "2        No -1.358354 -1.340163  1.773209  0.379780 -0.503198  1.800499   \n",
            "3        No -0.966272 -0.185226  1.792993 -0.863291 -0.010309  1.247203   \n",
            "4        No -1.158233  0.877737  1.548718  0.403034 -0.407193  0.095921   \n",
            "\n",
            "        AB7       AB8       AB9  ...      AB12      AB13      AB14      AB15  \\\n",
            "0  0.239599  0.098698  0.363787  ... -0.617801 -0.991390 -0.311169  1.468177   \n",
            "1 -0.078803  0.085102 -0.255425  ...  1.065235  0.489095 -0.143772  0.635558   \n",
            "2  0.791461  0.247676 -1.514654  ...  0.066084  0.717293 -0.165946  2.345865   \n",
            "3  0.237609  0.377436 -1.387024  ...  0.178228  0.507757 -0.287924 -0.631418   \n",
            "4  0.592941 -0.270533  0.817739  ...  0.538196  1.345852 -1.119670  0.175121   \n",
            "\n",
            "       AB16      AB17      AB18      AB19      AB20  Amount  \n",
            "0 -0.470401  0.207971  0.025791  0.403993  0.251412  149.62  \n",
            "1  0.463917 -0.114805 -0.183361 -0.145783 -0.069083    2.69  \n",
            "2 -2.890083  1.109969 -0.121359 -2.261857  0.524980  378.66  \n",
            "3 -1.059647 -0.684093  1.965775 -1.232622 -0.208038  123.50  \n",
            "4 -0.451449 -0.237033 -0.038195  0.803487  0.408542   69.99  \n",
            "\n",
            "[5 rows x 22 columns]\n"
          ]
        }
      ]
    },
    {
      "cell_type": "markdown",
      "source": [
        "**Preprocessing the Data**"
      ],
      "metadata": {
        "id": "HqM_xGI_I5SI"
      }
    },
    {
      "cell_type": "code",
      "source": [
        "# Encode 'Defrauded' column to numerical values: 1 for 'YES' and 0 for 'NO'\n",
        "df['Defrauded'] = df['Defrauded'].apply(lambda x: 1 if x == 'YES' else 0)\n",
        "\n",
        "# Separate features and target variable\n",
        "X = df.drop(columns=['Defrauded'])\n",
        "y = df['Defrauded']\n"
      ],
      "metadata": {
        "id": "Ya1Hqp0-HkZO"
      },
      "execution_count": 33,
      "outputs": []
    },
    {
      "cell_type": "markdown",
      "source": [
        "**Splitting Data into Training and Testing Sets**"
      ],
      "metadata": {
        "id": "Jg-aDnGEJBJC"
      }
    },
    {
      "cell_type": "code",
      "source": [
        "from sklearn.model_selection import train_test_split\n",
        "\n",
        "# Split the data into training and testing sets (75% training, 25% testing)\n",
        "X_train, X_test, y_train, y_test = train_test_split(X, y, test_size=0.25, random_state=30)\n"
      ],
      "metadata": {
        "id": "rtsJBDIgHo62"
      },
      "execution_count": null,
      "outputs": []
    },
    {
      "cell_type": "markdown",
      "source": [
        "**Training and Evaluating Random Forest Classifier**"
      ],
      "metadata": {
        "id": "SZZvdashJK67"
      }
    },
    {
      "cell_type": "code",
      "source": [
        "from sklearn.ensemble import RandomForestClassifier\n",
        "from sklearn.metrics import confusion_matrix, accuracy_score\n",
        "\n",
        "# Train the Random Forest classifier\n",
        "rf_classifier = RandomForestClassifier(random_state=30)\n",
        "rf_classifier.fit(X_train, y_train)\n",
        "\n",
        "# Predict on the test set using Random Forest\n",
        "y_pred_rf = rf_classifier.predict(X_test)\n",
        "\n",
        "# Evaluate the Random Forest model\n",
        "conf_matrix_rf = confusion_matrix(y_test, y_pred_rf)\n",
        "accuracy_rf = accuracy_score(y_test, y_pred_rf)\n"
      ],
      "metadata": {
        "id": "RvhBQddWHrs7"
      },
      "execution_count": 34,
      "outputs": []
    },
    {
      "cell_type": "markdown",
      "source": [
        "**Training and Evaluating Decision Tree Classifier**"
      ],
      "metadata": {
        "id": "r2Jr80ngJQl0"
      }
    },
    {
      "cell_type": "code",
      "source": [
        "from sklearn.tree import DecisionTreeClassifier\n",
        "\n",
        "# Train the Decision Tree classifier\n",
        "dt_classifier = DecisionTreeClassifier(random_state=30)\n",
        "dt_classifier.fit(X_train, y_train)\n",
        "\n",
        "# Predict on the test set using Decision Tree\n",
        "y_pred_dt = dt_classifier.predict(X_test)\n",
        "\n",
        "# Evaluate the Decision Tree model\n",
        "conf_matrix_dt = confusion_matrix(y_test, y_pred_dt)\n",
        "accuracy_dt = accuracy_score(y_test, y_pred_dt)\n"
      ],
      "metadata": {
        "id": "0jWN3IliHysJ"
      },
      "execution_count": 35,
      "outputs": []
    },
    {
      "cell_type": "markdown",
      "source": [
        "**Confusion Matrices and Accuracy Scores**"
      ],
      "metadata": {
        "id": "OUHMlU_SJXA0"
      }
    },
    {
      "cell_type": "code",
      "source": [
        "import seaborn as sns\n",
        "import matplotlib.pyplot as plt\n",
        "\n",
        "# Function to plot the confusion matrix\n",
        "def plot_confusion_matrix(conf_matrix, title):\n",
        "    plt.figure(figsize=(8, 6))\n",
        "    sns.heatmap(conf_matrix, annot=True, fmt='d', cmap='Reds', cbar=False, square=True)\n",
        "    plt.title(f'{title} - Confusion Matrix', fontsize=16)\n",
        "    plt.xlabel('Predicted', fontsize=14)\n",
        "    plt.ylabel('Actual', fontsize=14)\n",
        "    plt.show()\n",
        "\n"
      ],
      "metadata": {
        "id": "af8NH_feICT2"
      },
      "execution_count": null,
      "outputs": []
    },
    {
      "cell_type": "code",
      "source": [
        "# Print accuracy scores\n",
        "print(f'Random Forest Accuracy: {accuracy_rf:.2f}')\n",
        "# Plot confusion matrix for Random Forest\n",
        "plot_confusion_matrix(conf_matrix_rf, 'Random Forest')\n",
        "\n",
        "\n",
        "\n"
      ],
      "metadata": {
        "colab": {
          "base_uri": "https://localhost:8080/",
          "height": 589
        },
        "id": "Op2XdkWdIHQ7",
        "outputId": "2787f5b5-3060-4512-be65-b92d4e2e65dc"
      },
      "execution_count": 37,
      "outputs": [
        {
          "output_type": "stream",
          "name": "stdout",
          "text": [
            "Random Forest Accuracy: 1.00\n"
          ]
        },
        {
          "output_type": "display_data",
          "data": {
            "text/plain": [
              "<Figure size 800x600 with 1 Axes>"
            ],
            "image/png": "[encoded data removed]"
          },
          "metadata": {}
        }
      ]
    },
    {
      "cell_type": "code",
      "source": [
        "print(f'Decision Tree Accuracy: {accuracy_dt:.2f}')\n",
        "# Plot confusion matrix for Decision Tree\n",
        "plot_confusion_matrix(conf_matrix_dt, 'Decision Tree')"
      ],
      "metadata": {
        "colab": {
          "base_uri": "https://localhost:8080/",
          "height": 589
        },
        "id": "LpHn-F4LIVis",
        "outputId": "7c3ebd1e-0148-4df6-840d-4147ce20d51c"
      },
      "execution_count": 39,
      "outputs": [
        {
          "output_type": "stream",
          "name": "stdout",
          "text": [
            "Decision Tree Accuracy: 1.00\n"
          ]
        },
        {
          "output_type": "display_data",
          "data": {
            "text/plain": [
              "<Figure size 800x600 with 1 Axes>"
            ],
            "image/png": "[encoded data removed]"
          },
          "metadata": {}
        }
      ]
    }
  ]
}